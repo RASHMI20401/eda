{
  "nbformat": 4,
  "nbformat_minor": 0,
  "metadata": {
    "colab": {
      "provenance": []
    },
    "kernelspec": {
      "name": "python3",
      "display_name": "Python 3"
    },
    "language_info": {
      "name": "python"
    }
  },
  "cells": [
    {
      "cell_type": "code",
      "execution_count": 43,
      "metadata": {
        "id": "GhRS1Gwqltni"
      },
      "outputs": [],
      "source": [
        "import numpy as np\n",
        "import pandas as pd\n",
        "import matplotlib.pyplot as plt\n",
        "import seaborn as sns\n",
        "import plotly.express as px\n",
        "import plotly.graph_objects as go\n",
        "from plotly.subplots import make_subplots"
      ]
    },
    {
      "cell_type": "code",
      "source": [
        "world_ranking=pd.read_csv(\"/content/fifa_ranking_2022-10-06 - fifa_ranking_2022-10-06.csv.csv\")\n",
        "world_cup=pd.read_csv(\"/content/world_cup - world_cup.csv.csv\")\n",
        "matches=pd.read_csv(\"/content/matches_1930_2022 - matches_1930_2022.csv.csv\")"
      ],
      "metadata": {
        "id": "2CuE9rwYmqVp"
      },
      "execution_count": 3,
      "outputs": []
    },
    {
      "cell_type": "code",
      "source": [
        "matches.info()"
      ],
      "metadata": {
        "colab": {
          "base_uri": "https://localhost:8080/"
        },
        "id": "ue2yugjSnKdd",
        "outputId": "948fd706-ec8c-4b26-850a-cec411ecae4c"
      },
      "execution_count": 4,
      "outputs": [
        {
          "output_type": "stream",
          "name": "stdout",
          "text": [
            "<class 'pandas.core.frame.DataFrame'>\n",
            "RangeIndex: 964 entries, 0 to 963\n",
            "Data columns (total 44 columns):\n",
            " #   Column                           Non-Null Count  Dtype  \n",
            "---  ------                           --------------  -----  \n",
            " 0   home_team                        964 non-null    object \n",
            " 1   away_team                        964 non-null    object \n",
            " 2   home_score                       964 non-null    int64  \n",
            " 3   home_xg                          128 non-null    float64\n",
            " 4   home_penalty                     35 non-null     float64\n",
            " 5   away_score                       964 non-null    int64  \n",
            " 6   away_xg                          128 non-null    float64\n",
            " 7   away_penalty                     35 non-null     float64\n",
            " 8   home_manager                     964 non-null    object \n",
            " 9   home_captain                     644 non-null    object \n",
            " 10  away_manager                     964 non-null    object \n",
            " 11  away_captain                     644 non-null    object \n",
            " 12  Attendance                       964 non-null    int64  \n",
            " 13  Venue                            964 non-null    object \n",
            " 14  Officials                        709 non-null    object \n",
            " 15  Round                            964 non-null    object \n",
            " 16  Date                             964 non-null    object \n",
            " 17  Score                            964 non-null    object \n",
            " 18  Referee                          709 non-null    object \n",
            " 19  Notes                            73 non-null     object \n",
            " 20  Host                             964 non-null    object \n",
            " 21  Year                             964 non-null    int64  \n",
            " 22  home_goal                        718 non-null    object \n",
            " 23  away_goal                        571 non-null    object \n",
            " 24  home_goal_long                   718 non-null    object \n",
            " 25  away_goal_long                   571 non-null    object \n",
            " 26  home_own_goal                    39 non-null     object \n",
            " 27  away_own_goal                    17 non-null     object \n",
            " 28  home_penalty_goal                116 non-null    object \n",
            " 29  away_penalty_goal                84 non-null     object \n",
            " 30  home_penalty_miss_long           6 non-null      object \n",
            " 31  away_penalty_miss_long           9 non-null      object \n",
            " 32  home_penalty_shootout_goal_long  34 non-null     object \n",
            " 33  away_penalty_shootout_goal_long  34 non-null     object \n",
            " 34  home_penalty_shootout_miss_long  24 non-null     object \n",
            " 35  away_penalty_shootout_miss_long  30 non-null     object \n",
            " 36  home_red_card                    51 non-null     object \n",
            " 37  away_red_card                    54 non-null     object \n",
            " 38  home_yellow_red_card             23 non-null     object \n",
            " 39  away_yellow_red_card             31 non-null     object \n",
            " 40  home_yellow_card_long            621 non-null    object \n",
            " 41  away_yellow_card_long            627 non-null    object \n",
            " 42  home_substitute_in_long          740 non-null    object \n",
            " 43  away_substitute_in_long          747 non-null    object \n",
            "dtypes: float64(4), int64(4), object(36)\n",
            "memory usage: 331.5+ KB\n"
          ]
        }
      ]
    },
    {
      "cell_type": "code",
      "source": [
        "world_ranking.info()"
      ],
      "metadata": {
        "colab": {
          "base_uri": "https://localhost:8080/"
        },
        "id": "ibejKt6InXGM",
        "outputId": "3a1ce6a2-fd28-4711-979e-c21fdc740d54"
      },
      "execution_count": 15,
      "outputs": [
        {
          "output_type": "stream",
          "name": "stdout",
          "text": [
            "<class 'pandas.core.frame.DataFrame'>\n",
            "RangeIndex: 211 entries, 0 to 210\n",
            "Data columns (total 7 columns):\n",
            " #   Column           Non-Null Count  Dtype  \n",
            "---  ------           --------------  -----  \n",
            " 0   team             211 non-null    object \n",
            " 1   team_code        211 non-null    object \n",
            " 2   association      211 non-null    object \n",
            " 3   rank             211 non-null    int64  \n",
            " 4   previous_rank    211 non-null    int64  \n",
            " 5   points           211 non-null    float64\n",
            " 6   previous_points  211 non-null    float64\n",
            "dtypes: float64(2), int64(2), object(3)\n",
            "memory usage: 11.7+ KB\n"
          ]
        }
      ]
    },
    {
      "cell_type": "code",
      "source": [
        "world_cup.info()"
      ],
      "metadata": {
        "colab": {
          "base_uri": "https://localhost:8080/"
        },
        "id": "U9YcVHlVnde9",
        "outputId": "940f6dc2-60ad-45f1-a9e5-7bd2eed72919"
      },
      "execution_count": 17,
      "outputs": [
        {
          "output_type": "stream",
          "name": "stdout",
          "text": [
            "<class 'pandas.core.frame.DataFrame'>\n",
            "RangeIndex: 22 entries, 0 to 21\n",
            "Data columns (total 9 columns):\n",
            " #   Column         Non-Null Count  Dtype \n",
            "---  ------         --------------  ----- \n",
            " 0   Year           22 non-null     int64 \n",
            " 1   Host           22 non-null     object\n",
            " 2   Teams          22 non-null     int64 \n",
            " 3   Champion       22 non-null     object\n",
            " 4   Runner-Up      22 non-null     object\n",
            " 5   TopScorrer     22 non-null     object\n",
            " 6   Attendance     22 non-null     int64 \n",
            " 7   AttendanceAvg  22 non-null     int64 \n",
            " 8   Matches        22 non-null     int64 \n",
            "dtypes: int64(5), object(4)\n",
            "memory usage: 1.7+ KB\n"
          ]
        }
      ]
    },
    {
      "cell_type": "code",
      "source": [
        "print(world_cup.shape)\n",
        "print(world_ranking.shape)\n",
        "print(matches.shape)"
      ],
      "metadata": {
        "colab": {
          "base_uri": "https://localhost:8080/"
        },
        "id": "inEjs_Djnz9i",
        "outputId": "b8e4c7b4-da45-4cb1-c3b2-b66e530c5e93"
      },
      "execution_count": 18,
      "outputs": [
        {
          "output_type": "stream",
          "name": "stdout",
          "text": [
            "(22, 9)\n",
            "(211, 7)\n",
            "(964, 44)\n"
          ]
        }
      ]
    },
    {
      "cell_type": "code",
      "source": [
        "matches.isnull().sum()/len(matches)*100"
      ],
      "metadata": {
        "colab": {
          "base_uri": "https://localhost:8080/",
          "height": 1000
        },
        "id": "D6KmPjCnopeU",
        "outputId": "011505ef-c137-4b68-b3a9-be61f88dde25"
      },
      "execution_count": 19,
      "outputs": [
        {
          "output_type": "execute_result",
          "data": {
            "text/plain": [
              "home_team                           0.000000\n",
              "away_team                           0.000000\n",
              "home_score                          0.000000\n",
              "home_xg                            86.721992\n",
              "home_penalty                       96.369295\n",
              "away_score                          0.000000\n",
              "away_xg                            86.721992\n",
              "away_penalty                       96.369295\n",
              "home_manager                        0.000000\n",
              "home_captain                       33.195021\n",
              "away_manager                        0.000000\n",
              "away_captain                       33.195021\n",
              "Attendance                          0.000000\n",
              "Venue                               0.000000\n",
              "Officials                          26.452282\n",
              "Round                               0.000000\n",
              "Date                                0.000000\n",
              "Score                               0.000000\n",
              "Referee                            26.452282\n",
              "Notes                              92.427386\n",
              "Host                                0.000000\n",
              "Year                                0.000000\n",
              "home_goal                          25.518672\n",
              "away_goal                          40.767635\n",
              "home_goal_long                     25.518672\n",
              "away_goal_long                     40.767635\n",
              "home_own_goal                      95.954357\n",
              "away_own_goal                      98.236515\n",
              "home_penalty_goal                  87.966805\n",
              "away_penalty_goal                  91.286307\n",
              "home_penalty_miss_long             99.377593\n",
              "away_penalty_miss_long             99.066390\n",
              "home_penalty_shootout_goal_long    96.473029\n",
              "away_penalty_shootout_goal_long    96.473029\n",
              "home_penalty_shootout_miss_long    97.510373\n",
              "away_penalty_shootout_miss_long    96.887967\n",
              "home_red_card                      94.709544\n",
              "away_red_card                      94.398340\n",
              "home_yellow_red_card               97.614108\n",
              "away_yellow_red_card               96.784232\n",
              "home_yellow_card_long              35.580913\n",
              "away_yellow_card_long              34.958506\n",
              "home_substitute_in_long            23.236515\n",
              "away_substitute_in_long            22.510373\n",
              "dtype: float64"
            ],
            "text/html": [
              "<div>\n",
              "<style scoped>\n",
              "    .dataframe tbody tr th:only-of-type {\n",
              "        vertical-align: middle;\n",
              "    }\n",
              "\n",
              "    .dataframe tbody tr th {\n",
              "        vertical-align: top;\n",
              "    }\n",
              "\n",
              "    .dataframe thead th {\n",
              "        text-align: right;\n",
              "    }\n",
              "</style>\n",
              "<table border=\"1\" class=\"dataframe\">\n",
              "  <thead>\n",
              "    <tr style=\"text-align: right;\">\n",
              "      <th></th>\n",
              "      <th>0</th>\n",
              "    </tr>\n",
              "  </thead>\n",
              "  <tbody>\n",
              "    <tr>\n",
              "      <th>home_team</th>\n",
              "      <td>0.000000</td>\n",
              "    </tr>\n",
              "    <tr>\n",
              "      <th>away_team</th>\n",
              "      <td>0.000000</td>\n",
              "    </tr>\n",
              "    <tr>\n",
              "      <th>home_score</th>\n",
              "      <td>0.000000</td>\n",
              "    </tr>\n",
              "    <tr>\n",
              "      <th>home_xg</th>\n",
              "      <td>86.721992</td>\n",
              "    </tr>\n",
              "    <tr>\n",
              "      <th>home_penalty</th>\n",
              "      <td>96.369295</td>\n",
              "    </tr>\n",
              "    <tr>\n",
              "      <th>away_score</th>\n",
              "      <td>0.000000</td>\n",
              "    </tr>\n",
              "    <tr>\n",
              "      <th>away_xg</th>\n",
              "      <td>86.721992</td>\n",
              "    </tr>\n",
              "    <tr>\n",
              "      <th>away_penalty</th>\n",
              "      <td>96.369295</td>\n",
              "    </tr>\n",
              "    <tr>\n",
              "      <th>home_manager</th>\n",
              "      <td>0.000000</td>\n",
              "    </tr>\n",
              "    <tr>\n",
              "      <th>home_captain</th>\n",
              "      <td>33.195021</td>\n",
              "    </tr>\n",
              "    <tr>\n",
              "      <th>away_manager</th>\n",
              "      <td>0.000000</td>\n",
              "    </tr>\n",
              "    <tr>\n",
              "      <th>away_captain</th>\n",
              "      <td>33.195021</td>\n",
              "    </tr>\n",
              "    <tr>\n",
              "      <th>Attendance</th>\n",
              "      <td>0.000000</td>\n",
              "    </tr>\n",
              "    <tr>\n",
              "      <th>Venue</th>\n",
              "      <td>0.000000</td>\n",
              "    </tr>\n",
              "    <tr>\n",
              "      <th>Officials</th>\n",
              "      <td>26.452282</td>\n",
              "    </tr>\n",
              "    <tr>\n",
              "      <th>Round</th>\n",
              "      <td>0.000000</td>\n",
              "    </tr>\n",
              "    <tr>\n",
              "      <th>Date</th>\n",
              "      <td>0.000000</td>\n",
              "    </tr>\n",
              "    <tr>\n",
              "      <th>Score</th>\n",
              "      <td>0.000000</td>\n",
              "    </tr>\n",
              "    <tr>\n",
              "      <th>Referee</th>\n",
              "      <td>26.452282</td>\n",
              "    </tr>\n",
              "    <tr>\n",
              "      <th>Notes</th>\n",
              "      <td>92.427386</td>\n",
              "    </tr>\n",
              "    <tr>\n",
              "      <th>Host</th>\n",
              "      <td>0.000000</td>\n",
              "    </tr>\n",
              "    <tr>\n",
              "      <th>Year</th>\n",
              "      <td>0.000000</td>\n",
              "    </tr>\n",
              "    <tr>\n",
              "      <th>home_goal</th>\n",
              "      <td>25.518672</td>\n",
              "    </tr>\n",
              "    <tr>\n",
              "      <th>away_goal</th>\n",
              "      <td>40.767635</td>\n",
              "    </tr>\n",
              "    <tr>\n",
              "      <th>home_goal_long</th>\n",
              "      <td>25.518672</td>\n",
              "    </tr>\n",
              "    <tr>\n",
              "      <th>away_goal_long</th>\n",
              "      <td>40.767635</td>\n",
              "    </tr>\n",
              "    <tr>\n",
              "      <th>home_own_goal</th>\n",
              "      <td>95.954357</td>\n",
              "    </tr>\n",
              "    <tr>\n",
              "      <th>away_own_goal</th>\n",
              "      <td>98.236515</td>\n",
              "    </tr>\n",
              "    <tr>\n",
              "      <th>home_penalty_goal</th>\n",
              "      <td>87.966805</td>\n",
              "    </tr>\n",
              "    <tr>\n",
              "      <th>away_penalty_goal</th>\n",
              "      <td>91.286307</td>\n",
              "    </tr>\n",
              "    <tr>\n",
              "      <th>home_penalty_miss_long</th>\n",
              "      <td>99.377593</td>\n",
              "    </tr>\n",
              "    <tr>\n",
              "      <th>away_penalty_miss_long</th>\n",
              "      <td>99.066390</td>\n",
              "    </tr>\n",
              "    <tr>\n",
              "      <th>home_penalty_shootout_goal_long</th>\n",
              "      <td>96.473029</td>\n",
              "    </tr>\n",
              "    <tr>\n",
              "      <th>away_penalty_shootout_goal_long</th>\n",
              "      <td>96.473029</td>\n",
              "    </tr>\n",
              "    <tr>\n",
              "      <th>home_penalty_shootout_miss_long</th>\n",
              "      <td>97.510373</td>\n",
              "    </tr>\n",
              "    <tr>\n",
              "      <th>away_penalty_shootout_miss_long</th>\n",
              "      <td>96.887967</td>\n",
              "    </tr>\n",
              "    <tr>\n",
              "      <th>home_red_card</th>\n",
              "      <td>94.709544</td>\n",
              "    </tr>\n",
              "    <tr>\n",
              "      <th>away_red_card</th>\n",
              "      <td>94.398340</td>\n",
              "    </tr>\n",
              "    <tr>\n",
              "      <th>home_yellow_red_card</th>\n",
              "      <td>97.614108</td>\n",
              "    </tr>\n",
              "    <tr>\n",
              "      <th>away_yellow_red_card</th>\n",
              "      <td>96.784232</td>\n",
              "    </tr>\n",
              "    <tr>\n",
              "      <th>home_yellow_card_long</th>\n",
              "      <td>35.580913</td>\n",
              "    </tr>\n",
              "    <tr>\n",
              "      <th>away_yellow_card_long</th>\n",
              "      <td>34.958506</td>\n",
              "    </tr>\n",
              "    <tr>\n",
              "      <th>home_substitute_in_long</th>\n",
              "      <td>23.236515</td>\n",
              "    </tr>\n",
              "    <tr>\n",
              "      <th>away_substitute_in_long</th>\n",
              "      <td>22.510373</td>\n",
              "    </tr>\n",
              "  </tbody>\n",
              "</table>\n",
              "</div><br><label><b>dtype:</b> float64</label>"
            ]
          },
          "metadata": {},
          "execution_count": 19
        }
      ]
    },
    {
      "cell_type": "code",
      "source": [
        "matches['home_team']= matches['home_team'].apply(lambda x: x.replace(\"Germany DR\", \" West Germany\"))\n",
        "matches['away_team']= matches['away_team'].apply(lambda x: x.replace(\"Germany DR\", \" West Germany\"))"
      ],
      "metadata": {
        "id": "h8GETDmspT0f"
      },
      "execution_count": 34,
      "outputs": []
    },
    {
      "cell_type": "markdown",
      "source": [
        "EDA\n"
      ],
      "metadata": {
        "id": "4JjsCIzir233"
      }
    },
    {
      "cell_type": "markdown",
      "source": [
        "total number of matches played till 2022"
      ],
      "metadata": {
        "id": "gR6rV7ss-hFW"
      }
    },
    {
      "cell_type": "code",
      "source": [
        "print(len(matches))"
      ],
      "metadata": {
        "colab": {
          "base_uri": "https://localhost:8080/"
        },
        "id": "Z4v29Kf_-pPX",
        "outputId": "baafce7b-629b-4880-d59b-fd439d63eb8f"
      },
      "execution_count": 5,
      "outputs": [
        {
          "output_type": "stream",
          "name": "stdout",
          "text": [
            "964\n"
          ]
        }
      ]
    },
    {
      "cell_type": "markdown",
      "source": [
        "total number of goal scores"
      ],
      "metadata": {
        "id": "IzHlaifL_bMD"
      }
    },
    {
      "cell_type": "code",
      "source": [
        "print (sum (matches[\"home_score\"]+matches[\"away_score\"]))"
      ],
      "metadata": {
        "colab": {
          "base_uri": "https://localhost:8080/"
        },
        "id": "BipoR7Tq_TIm",
        "outputId": "9aac29c9-6b0f-4fe6-c0f2-09775ab24ea7"
      },
      "execution_count": 6,
      "outputs": [
        {
          "output_type": "stream",
          "name": "stdout",
          "text": [
            "2720\n"
          ]
        }
      ]
    },
    {
      "cell_type": "markdown",
      "source": [
        "average goals per match"
      ],
      "metadata": {
        "id": "plYaLrl4_UEn"
      }
    },
    {
      "cell_type": "code",
      "source": [
        "print((sum (matches[\"home_score\"]+matches[\"away_score\"]))/len(matches))"
      ],
      "metadata": {
        "colab": {
          "base_uri": "https://localhost:8080/"
        },
        "id": "T6q3EPJLAKWn",
        "outputId": "f1a97d85-5e9b-47fa-ee05-d7aa671a445f"
      },
      "execution_count": 7,
      "outputs": [
        {
          "output_type": "stream",
          "name": "stdout",
          "text": [
            "2.8215767634854774\n"
          ]
        }
      ]
    },
    {
      "cell_type": "markdown",
      "source": [
        "average attendance over time"
      ],
      "metadata": {
        "id": "U_LRdoLXAYMJ"
      }
    },
    {
      "cell_type": "code",
      "source": [
        "print (np.average(matches[\"Attendance\"]))"
      ],
      "metadata": {
        "colab": {
          "base_uri": "https://localhost:8080/"
        },
        "id": "nncn9Xk-AeOa",
        "outputId": "e5dce810-409b-4bc6-a021-2e71b8371cbf"
      },
      "execution_count": 8,
      "outputs": [
        {
          "output_type": "stream",
          "name": "stdout",
          "text": [
            "45693.3744813278\n"
          ]
        }
      ]
    },
    {
      "cell_type": "markdown",
      "source": [
        "times a country is winner,first runner up"
      ],
      "metadata": {
        "id": "LnZTsfdPA8SI"
      }
    },
    {
      "cell_type": "code",
      "source": [
        "champion_counts= world_cup[\"Champion\"].value_counts()\n",
        "print (champion_counts)\n",
        "\n",
        "\n"
      ],
      "metadata": {
        "colab": {
          "base_uri": "https://localhost:8080/"
        },
        "id": "GyFclRqIA594",
        "outputId": "6967d2c6-ca0e-4652-c29b-15513221cd33"
      },
      "execution_count": 33,
      "outputs": [
        {
          "output_type": "stream",
          "name": "stdout",
          "text": [
            "Champion\n",
            "Brazil          5\n",
            "Italy           4\n",
            "Argentina       3\n",
            "France          2\n",
            "Germany         2\n",
            "West Germany    2\n",
            "Uruguay         2\n",
            "Spain           1\n",
            "England         1\n",
            "Name: count, dtype: int64\n"
          ]
        }
      ]
    },
    {
      "cell_type": "code",
      "source": [
        "plt.pie(champion_counts, labels=champion_counts.index, autopct='%1.1f%%', startangle=90, colors=plt.cm.Paired.colors)\n",
        "\n",
        "# Equal aspect ratio ensures the pie chart is circular\n",
        "plt.axis('equal')\n",
        "\n",
        "# Display the chart\n",
        "plt.title(\"World Cup Wins by Champion\")\n",
        "plt.show()"
      ],
      "metadata": {
        "colab": {
          "base_uri": "https://localhost:8080/",
          "height": 434
        },
        "id": "qphit7weBxR2",
        "outputId": "bce00d55-600a-40fc-d21d-5de791af8202"
      },
      "execution_count": 31,
      "outputs": [
        {
          "output_type": "display_data",
          "data": {
            "text/plain": [
              "<Figure size 640x480 with 1 Axes>"
            ],
            "image/png": "[encoded data removed]"
          },
          "metadata": {}
        }
      ]
    },
    {
      "cell_type": "code",
      "source": [
        "matches['home_penalty'].fillna(0, inplace=True)\n",
        "matches['away_penalty'].fillna(0, inplace=True)"
      ],
      "metadata": {
        "id": "ZoaMNSjDDdqW"
      },
      "execution_count": 45,
      "outputs": []
    },
    {
      "cell_type": "code",
      "source": [
        "matches['h_total']= matches['home_score'] + matches['home_penalty']\n",
        "matches['a_total']= matches['away_score'] + matches['away_penalty']"
      ],
      "metadata": {
        "id": "olG5DmBWLxG1"
      },
      "execution_count": 46,
      "outputs": []
    },
    {
      "cell_type": "code",
      "source": [
        "Runner = matches[matches['Round']=='Final']\n",
        "Third = matches[matches['Round']=='Third-place match']"
      ],
      "metadata": {
        "id": "x_-iRxWFMD_V"
      },
      "execution_count": 47,
      "outputs": []
    },
    {
      "cell_type": "code",
      "source": [
        "#runner up\n",
        "def get_runner_up(row):\n",
        "  if(row['h_total']>row['a_total']):\n",
        "    return row['away_team']\n",
        "  else:\n",
        "    return row['home_team']\n",
        "\n",
        "\n",
        "\n",
        "#third place\n",
        "def get_third_up(row):\n",
        "  if(row['h_total']>row['a_total']):\n",
        "    return row['home_team']\n",
        "  else:\n",
        "    return row['away_team']"
      ],
      "metadata": {
        "id": "gBvaNwDLN_jj"
      },
      "execution_count": 48,
      "outputs": []
    },
    {
      "cell_type": "code",
      "source": [
        "Runner['Runner_up'] = Runner.apply(get_runner_up, axis=1)\n",
        "Third['Third_place'] = Third.apply(get_third_up, axis=1)"
      ],
      "metadata": {
        "colab": {
          "base_uri": "https://localhost:8080/"
        },
        "id": "D5LS9ZvDODAu",
        "outputId": "b38de8d6-4b6c-4b1c-b6bf-8179c96a7e1f"
      },
      "execution_count": 49,
      "outputs": [
        {
          "output_type": "stream",
          "name": "stderr",
          "text": [
            "<ipython-input-49-ae55b2b99cc5>:1: SettingWithCopyWarning: \n",
            "A value is trying to be set on a copy of a slice from a DataFrame.\n",
            "Try using .loc[row_indexer,col_indexer] = value instead\n",
            "\n",
            "See the caveats in the documentation: https://pandas.pydata.org/pandas-docs/stable/user_guide/indexing.html#returning-a-view-versus-a-copy\n",
            "  Runner['Runner_up'] = Runner.apply(get_runner_up, axis=1)\n",
            "<ipython-input-49-ae55b2b99cc5>:2: SettingWithCopyWarning: \n",
            "A value is trying to be set on a copy of a slice from a DataFrame.\n",
            "Try using .loc[row_indexer,col_indexer] = value instead\n",
            "\n",
            "See the caveats in the documentation: https://pandas.pydata.org/pandas-docs/stable/user_guide/indexing.html#returning-a-view-versus-a-copy\n",
            "  Third['Third_place'] = Third.apply(get_third_up, axis=1)\n"
          ]
        }
      ]
    },
    {
      "cell_type": "code",
      "source": [
        "Runner['Runner_up'].value_counts().index"
      ],
      "metadata": {
        "colab": {
          "base_uri": "https://localhost:8080/"
        },
        "id": "dygTLPOoOGfC",
        "outputId": "436b15c2-995f-485c-e422-39c48b6a6bda"
      },
      "execution_count": 50,
      "outputs": [
        {
          "output_type": "execute_result",
          "data": {
            "text/plain": [
              "Index(['Argentina', 'Netherlands', 'West Germany', 'France', 'Italy',\n",
              "       'Czechoslovakia', 'Hungary', 'Croatia', 'Germany', 'Brazil', 'Sweden'],\n",
              "      dtype='object', name='Runner_up')"
            ]
          },
          "metadata": {},
          "execution_count": 50
        }
      ]
    },
    {
      "cell_type": "code",
      "source": [
        "trace1= go.Bar(x=Runner['Runner_up'].value_counts().index, y=Runner['Runner_up'].value_counts(), name= 'First Runner Up')\n",
        "trace2= go.Bar(x=Third['Third_place'].value_counts().index, y=Third['Third_place'].value_counts(), name= 'Second Runner Up')"
      ],
      "metadata": {
        "id": "0-cRFVpMOJOE"
      },
      "execution_count": 51,
      "outputs": []
    },
    {
      "cell_type": "code",
      "source": [
        "fig= make_subplots(rows=1, cols=2, subplot_titles=('First Runner Up', 'Second Runner Up'))\n",
        "\n",
        "#Adding Traces\n",
        "fig.add_trace(trace1, row=1, col=1)\n",
        "fig.add_trace(trace2, row=1, col=2)\n",
        "\n",
        "fig.show()\n",
        "\n",
        "\n"
      ],
      "metadata": {
        "colab": {
          "base_uri": "https://localhost:8080/",
          "height": 542
        },
        "id": "Psdja87QOMGS",
        "outputId": "585987e5-332d-43af-d883-c957b541899d"
      },
      "execution_count": 52,
      "outputs": [
        {
          "output_type": "display_data",
          "data": {
            "text/html": [
              "<html>\n",
              "<head><meta charset=\"utf-8\" /></head>\n",
              "<body>\n",
              "    <div>            <script src=\"https://cdnjs.cloudflare.com/ajax/libs/mathjax/2.7.5/MathJax.js?config=TeX-AMS-MML_SVG\"></script><script type=\"text/javascript\">if (window.MathJax && window.MathJax.Hub && window.MathJax.Hub.Config) {window.MathJax.Hub.Config({SVG: {font: \"STIX-Web\"}});}</script>                <script type=\"text/javascript\">window.PlotlyConfig = {MathJaxConfig: 'local'};</script>\n",
              "        <script charset=\"utf-8\" src=\"https://cdn.plot.ly/plotly-2.24.1.min.js\"></script>                <div id=\"4ec50044-1f62-4f8b-a7d3-649a8e4ed786\" class=\"plotly-graph-div\" style=\"height:525px; width:100%;\"></div>            <script type=\"text/javascript\">                                    window.PLOTLYENV=window.PLOTLYENV || {};                                    if (document.getElementById(\"4ec50044-1f62-4f8b-a7d3-649a8e4ed786\")) {                    Plotly.newPlot(                        \"4ec50044-1f62-4f8b-a7d3-649a8e4ed786\",                        [{\"name\":\"First Runner Up\",\"x\":[\"Argentina\",\"Netherlands\",\"West Germany\",\"France\",\"Italy\",\"Czechoslovakia\",\"Hungary\",\"Croatia\",\"Germany\",\"Brazil\",\"Sweden\"],\"y\":[3,3,3,2,2,2,2,1,1,1,1],\"type\":\"bar\",\"xaxis\":\"x\",\"yaxis\":\"y\"},{\"name\":\"Second Runner Up\",\"x\":[\"Germany\",\"Croatia\",\"France\",\"Poland\",\"Brazil\",\"Belgium\",\"Netherlands\",\"T\\u00fcrkiye\",\"Sweden\",\"Italy\",\"West Germany\",\"Portugal\",\"Chile\",\"Austria\"],\"y\":[3,2,2,2,2,1,1,1,1,1,1,1,1,1],\"type\":\"bar\",\"xaxis\":\"x2\",\"yaxis\":\"y2\"}],                        {\"template\":{\"data\":{\"histogram2dcontour\":[{\"type\":\"histogram2dcontour\",\"colorbar\":{\"outlinewidth\":0,\"ticks\":\"\"},\"colorscale\":[[0.0,\"#0d0887\"],[0.1111111111111111,\"#46039f\"],[0.2222222222222222,\"#7201a8\"],[0.3333333333333333,\"#9c179e\"],[0.4444444444444444,\"#bd3786\"],[0.5555555555555556,\"#d8576b\"],[0.6666666666666666,\"#ed7953\"],[0.7777777777777778,\"#fb9f3a\"],[0.8888888888888888,\"#fdca26\"],[1.0,\"#f0f921\"]]}],\"choropleth\":[{\"type\":\"choropleth\",\"colorbar\":{\"outlinewidth\":0,\"ticks\":\"\"}}],\"histogram2d\":[{\"type\":\"histogram2d\",\"colorbar\":{\"outlinewidth\":0,\"ticks\":\"\"},\"colorscale\":[[0.0,\"#0d0887\"],[0.1111111111111111,\"#46039f\"],[0.2222222222222222,\"#7201a8\"],[0.3333333333333333,\"#9c179e\"],[0.4444444444444444,\"#bd3786\"],[0.5555555555555556,\"#d8576b\"],[0.6666666666666666,\"#ed7953\"],[0.7777777777777778,\"#fb9f3a\"],[0.8888888888888888,\"#fdca26\"],[1.0,\"#f0f921\"]]}],\"heatmap\":[{\"type\":\"heatmap\",\"colorbar\":{\"outlinewidth\":0,\"ticks\":\"\"},\"colorscale\":[[0.0,\"#0d0887\"],[0.1111111111111111,\"#46039f\"],[0.2222222222222222,\"#7201a8\"],[0.3333333333333333,\"#9c179e\"],[0.4444444444444444,\"#bd3786\"],[0.5555555555555556,\"#d8576b\"],[0.6666666666666666,\"#ed7953\"],[0.7777777777777778,\"#fb9f3a\"],[0.8888888888888888,\"#fdca26\"],[1.0,\"#f0f921\"]]}],\"heatmapgl\":[{\"type\":\"heatmapgl\",\"colorbar\":{\"outlinewidth\":0,\"ticks\":\"\"},\"colorscale\":[[0.0,\"#0d0887\"],[0.1111111111111111,\"#46039f\"],[0.2222222222222222,\"#7201a8\"],[0.3333333333333333,\"#9c179e\"],[0.4444444444444444,\"#bd3786\"],[0.5555555555555556,\"#d8576b\"],[0.6666666666666666,\"#ed7953\"],[0.7777777777777778,\"#fb9f3a\"],[0.8888888888888888,\"#fdca26\"],[1.0,\"#f0f921\"]]}],\"contourcarpet\":[{\"type\":\"contourcarpet\",\"colorbar\":{\"outlinewidth\":0,\"ticks\":\"\"}}],\"contour\":[{\"type\":\"contour\",\"colorbar\":{\"outlinewidth\":0,\"ticks\":\"\"},\"colorscale\":[[0.0,\"#0d0887\"],[0.1111111111111111,\"#46039f\"],[0.2222222222222222,\"#7201a8\"],[0.3333333333333333,\"#9c179e\"],[0.4444444444444444,\"#bd3786\"],[0.5555555555555556,\"#d8576b\"],[0.6666666666666666,\"#ed7953\"],[0.7777777777777778,\"#fb9f3a\"],[0.8888888888888888,\"#fdca26\"],[1.0,\"#f0f921\"]]}],\"surface\":[{\"type\":\"surface\",\"colorbar\":{\"outlinewidth\":0,\"ticks\":\"\"},\"colorscale\":[[0.0,\"#0d0887\"],[0.1111111111111111,\"#46039f\"],[0.2222222222222222,\"#7201a8\"],[0.3333333333333333,\"#9c179e\"],[0.4444444444444444,\"#bd3786\"],[0.5555555555555556,\"#d8576b\"],[0.6666666666666666,\"#ed7953\"],[0.7777777777777778,\"#fb9f3a\"],[0.8888888888888888,\"#fdca26\"],[1.0,\"#f0f921\"]]}],\"mesh3d\":[{\"type\":\"mesh3d\",\"colorbar\":{\"outlinewidth\":0,\"ticks\":\"\"}}],\"scatter\":[{\"fillpattern\":{\"fillmode\":\"overlay\",\"size\":10,\"solidity\":0.2},\"type\":\"scatter\"}],\"parcoords\":[{\"type\":\"parcoords\",\"line\":{\"colorbar\":{\"outlinewidth\":0,\"ticks\":\"\"}}}],\"scatterpolargl\":[{\"type\":\"scatterpolargl\",\"marker\":{\"colorbar\":{\"outlinewidth\":0,\"ticks\":\"\"}}}],\"bar\":[{\"error_x\":{\"color\":\"#2a3f5f\"},\"error_y\":{\"color\":\"#2a3f5f\"},\"marker\":{\"line\":{\"color\":\"#E5ECF6\",\"width\":0.5},\"pattern\":{\"fillmode\":\"overlay\",\"size\":10,\"solidity\":0.2}},\"type\":\"bar\"}],\"scattergeo\":[{\"type\":\"scattergeo\",\"marker\":{\"colorbar\":{\"outlinewidth\":0,\"ticks\":\"\"}}}],\"scatterpolar\":[{\"type\":\"scatterpolar\",\"marker\":{\"colorbar\":{\"outlinewidth\":0,\"ticks\":\"\"}}}],\"histogram\":[{\"marker\":{\"pattern\":{\"fillmode\":\"overlay\",\"size\":10,\"solidity\":0.2}},\"type\":\"histogram\"}],\"scattergl\":[{\"type\":\"scattergl\",\"marker\":{\"colorbar\":{\"outlinewidth\":0,\"ticks\":\"\"}}}],\"scatter3d\":[{\"type\":\"scatter3d\",\"line\":{\"colorbar\":{\"outlinewidth\":0,\"ticks\":\"\"}},\"marker\":{\"colorbar\":{\"outlinewidth\":0,\"ticks\":\"\"}}}],\"scattermapbox\":[{\"type\":\"scattermapbox\",\"marker\":{\"colorbar\":{\"outlinewidth\":0,\"ticks\":\"\"}}}],\"scatterternary\":[{\"type\":\"scatterternary\",\"marker\":{\"colorbar\":{\"outlinewidth\":0,\"ticks\":\"\"}}}],\"scattercarpet\":[{\"type\":\"scattercarpet\",\"marker\":{\"colorbar\":{\"outlinewidth\":0,\"ticks\":\"\"}}}],\"carpet\":[{\"aaxis\":{\"endlinecolor\":\"#2a3f5f\",\"gridcolor\":\"white\",\"linecolor\":\"white\",\"minorgridcolor\":\"white\",\"startlinecolor\":\"#2a3f5f\"},\"baxis\":{\"endlinecolor\":\"#2a3f5f\",\"gridcolor\":\"white\",\"linecolor\":\"white\",\"minorgridcolor\":\"white\",\"startlinecolor\":\"#2a3f5f\"},\"type\":\"carpet\"}],\"table\":[{\"cells\":{\"fill\":{\"color\":\"#EBF0F8\"},\"line\":{\"color\":\"white\"}},\"header\":{\"fill\":{\"color\":\"#C8D4E3\"},\"line\":{\"color\":\"white\"}},\"type\":\"table\"}],\"barpolar\":[{\"marker\":{\"line\":{\"color\":\"#E5ECF6\",\"width\":0.5},\"pattern\":{\"fillmode\":\"overlay\",\"size\":10,\"solidity\":0.2}},\"type\":\"barpolar\"}],\"pie\":[{\"automargin\":true,\"type\":\"pie\"}]},\"layout\":{\"autotypenumbers\":\"strict\",\"colorway\":[\"#636efa\",\"#EF553B\",\"#00cc96\",\"#ab63fa\",\"#FFA15A\",\"#19d3f3\",\"#FF6692\",\"#B6E880\",\"#FF97FF\",\"#FECB52\"],\"font\":{\"color\":\"#2a3f5f\"},\"hovermode\":\"closest\",\"hoverlabel\":{\"align\":\"left\"},\"paper_bgcolor\":\"white\",\"plot_bgcolor\":\"#E5ECF6\",\"polar\":{\"bgcolor\":\"#E5ECF6\",\"angularaxis\":{\"gridcolor\":\"white\",\"linecolor\":\"white\",\"ticks\":\"\"},\"radialaxis\":{\"gridcolor\":\"white\",\"linecolor\":\"white\",\"ticks\":\"\"}},\"ternary\":{\"bgcolor\":\"#E5ECF6\",\"aaxis\":{\"gridcolor\":\"white\",\"linecolor\":\"white\",\"ticks\":\"\"},\"baxis\":{\"gridcolor\":\"white\",\"linecolor\":\"white\",\"ticks\":\"\"},\"caxis\":{\"gridcolor\":\"white\",\"linecolor\":\"white\",\"ticks\":\"\"}},\"coloraxis\":{\"colorbar\":{\"outlinewidth\":0,\"ticks\":\"\"}},\"colorscale\":{\"sequential\":[[0.0,\"#0d0887\"],[0.1111111111111111,\"#46039f\"],[0.2222222222222222,\"#7201a8\"],[0.3333333333333333,\"#9c179e\"],[0.4444444444444444,\"#bd3786\"],[0.5555555555555556,\"#d8576b\"],[0.6666666666666666,\"#ed7953\"],[0.7777777777777778,\"#fb9f3a\"],[0.8888888888888888,\"#fdca26\"],[1.0,\"#f0f921\"]],\"sequentialminus\":[[0.0,\"#0d0887\"],[0.1111111111111111,\"#46039f\"],[0.2222222222222222,\"#7201a8\"],[0.3333333333333333,\"#9c179e\"],[0.4444444444444444,\"#bd3786\"],[0.5555555555555556,\"#d8576b\"],[0.6666666666666666,\"#ed7953\"],[0.7777777777777778,\"#fb9f3a\"],[0.8888888888888888,\"#fdca26\"],[1.0,\"#f0f921\"]],\"diverging\":[[0,\"#8e0152\"],[0.1,\"#c51b7d\"],[0.2,\"#de77ae\"],[0.3,\"#f1b6da\"],[0.4,\"#fde0ef\"],[0.5,\"#f7f7f7\"],[0.6,\"#e6f5d0\"],[0.7,\"#b8e186\"],[0.8,\"#7fbc41\"],[0.9,\"#4d9221\"],[1,\"#276419\"]]},\"xaxis\":{\"gridcolor\":\"white\",\"linecolor\":\"white\",\"ticks\":\"\",\"title\":{\"standoff\":15},\"zerolinecolor\":\"white\",\"automargin\":true,\"zerolinewidth\":2},\"yaxis\":{\"gridcolor\":\"white\",\"linecolor\":\"white\",\"ticks\":\"\",\"title\":{\"standoff\":15},\"zerolinecolor\":\"white\",\"automargin\":true,\"zerolinewidth\":2},\"scene\":{\"xaxis\":{\"backgroundcolor\":\"#E5ECF6\",\"gridcolor\":\"white\",\"linecolor\":\"white\",\"showbackground\":true,\"ticks\":\"\",\"zerolinecolor\":\"white\",\"gridwidth\":2},\"yaxis\":{\"backgroundcolor\":\"#E5ECF6\",\"gridcolor\":\"white\",\"linecolor\":\"white\",\"showbackground\":true,\"ticks\":\"\",\"zerolinecolor\":\"white\",\"gridwidth\":2},\"zaxis\":{\"backgroundcolor\":\"#E5ECF6\",\"gridcolor\":\"white\",\"linecolor\":\"white\",\"showbackground\":true,\"ticks\":\"\",\"zerolinecolor\":\"white\",\"gridwidth\":2}},\"shapedefaults\":{\"line\":{\"color\":\"#2a3f5f\"}},\"annotationdefaults\":{\"arrowcolor\":\"#2a3f5f\",\"arrowhead\":0,\"arrowwidth\":1},\"geo\":{\"bgcolor\":\"white\",\"landcolor\":\"#E5ECF6\",\"subunitcolor\":\"white\",\"showland\":true,\"showlakes\":true,\"lakecolor\":\"white\"},\"title\":{\"x\":0.05},\"mapbox\":{\"style\":\"light\"}}},\"xaxis\":{\"anchor\":\"y\",\"domain\":[0.0,0.45]},\"yaxis\":{\"anchor\":\"x\",\"domain\":[0.0,1.0]},\"xaxis2\":{\"anchor\":\"y2\",\"domain\":[0.55,1.0]},\"yaxis2\":{\"anchor\":\"x2\",\"domain\":[0.0,1.0]},\"annotations\":[{\"font\":{\"size\":16},\"showarrow\":false,\"text\":\"First Runner Up\",\"x\":0.225,\"xanchor\":\"center\",\"xref\":\"paper\",\"y\":1.0,\"yanchor\":\"bottom\",\"yref\":\"paper\"},{\"font\":{\"size\":16},\"showarrow\":false,\"text\":\"Second Runner Up\",\"x\":0.775,\"xanchor\":\"center\",\"xref\":\"paper\",\"y\":1.0,\"yanchor\":\"bottom\",\"yref\":\"paper\"}]},                        {\"responsive\": true}                    ).then(function(){\n",
              "                            \n",
              "var gd = document.getElementById('4ec50044-1f62-4f8b-a7d3-649a8e4ed786');\n",
              "var x = new MutationObserver(function (mutations, observer) {{\n",
              "        var display = window.getComputedStyle(gd).display;\n",
              "        if (!display || display === 'none') {{\n",
              "            console.log([gd, 'removed!']);\n",
              "            Plotly.purge(gd);\n",
              "            observer.disconnect();\n",
              "        }}\n",
              "}});\n",
              "\n",
              "// Listen for the removal of the full notebook cells\n",
              "var notebookContainer = gd.closest('#notebook-container');\n",
              "if (notebookContainer) {{\n",
              "    x.observe(notebookContainer, {childList: true});\n",
              "}}\n",
              "\n",
              "// Listen for the clearing of the current output cell\n",
              "var outputEl = gd.closest('.output');\n",
              "if (outputEl) {{\n",
              "    x.observe(outputEl, {childList: true});\n",
              "}}\n",
              "\n",
              "                        })                };                            </script>        </div>\n",
              "</body>\n",
              "</html>"
            ]
          },
          "metadata": {}
        }
      ]
    },
    {
      "cell_type": "markdown",
      "source": [
        "in which year a particular team participated"
      ],
      "metadata": {
        "id": "bzBUePqKRIIq"
      }
    },
    {
      "cell_type": "code",
      "source": [
        "data= matches.groupby('Year').agg(home=('home_team', list), away=('away_team', list))\n",
        "data"
      ],
      "metadata": {
        "colab": {
          "base_uri": "https://localhost:8080/",
          "height": 770
        },
        "id": "R8aCuRRQRPdO",
        "outputId": "ac0756cf-00be-4ad2-be9a-d1ba77576efa"
      },
      "execution_count": 53,
      "outputs": [
        {
          "output_type": "execute_result",
          "data": {
            "text/plain": [
              "                                                   home  \\\n",
              "Year                                                      \n",
              "1930  [Uruguay, Uruguay, Argentina, Argentina, Urugu...   \n",
              "1934  [Italy, Germany, Czechoslovakia, Italy, Italy,...   \n",
              "1938  [Brazil, Italy, Hungary, Italy, Brazil, Sweden...   \n",
              "1950  [Sweden, Uruguay, Brazil, Uruguay, Brazil, Uru...   \n",
              "1954  [Germany, Austria, Hungary, Germany, Germany, ...   \n",
              "1958  [Brazil, France, Sweden, Brazil, France, West ...   \n",
              "1962  [Brazil, Chile, Brazil, Czechoslovakia, Chile,...   \n",
              "1966  [England, Portugal, England, West Germany, Por...   \n",
              "1970  [Brazil, West Germany, Italy, Brazil, Brazil, ...   \n",
              "1974  [Netherlands, Brazil, Poland, Netherlands, Arg...   \n",
              "1978  [Argentina, Brazil, Netherlands, Austria, Braz...   \n",
              "1982  [Italy, Poland, Poland, West Germany, Italy, S...   \n",
              "1986  [Argentina, France, France, Argentina, Argenti...   \n",
              "1990  [West Germany, Italy, West Germany, Italy, Wes...   \n",
              "1994  [Brazil, Sweden, Bulgaria, Sweden, Bulgaria, R...   \n",
              "1998  [Brazil, Netherlands, France, Brazil, Netherla...   \n",
              "2002  [Germany, Korea Republic, Brazil, Germany, Spa...   \n",
              "2006  [Italy, Germany, Portugal, Germany, England, B...   \n",
              "2010  [Netherlands, Uruguay, Germany, Uruguay, Argen...   \n",
              "2014  [Germany, Brazil, Netherlands, Brazil, Argenti...   \n",
              "2018  [France, Belgium, Croatia, France, Sweden, Rus...   \n",
              "2022  [Argentina, Croatia, France, Argentina, Morocc...   \n",
              "\n",
              "                                                   away  \n",
              "Year                                                     \n",
              "1930  [Argentina, Yugoslavia, United States, Chile, ...  \n",
              "1934  [Czechoslovakia, Austria, Germany, Austria, Sp...  \n",
              "1938  [Sweden, Hungary, Sweden, Brazil, Czechoslovak...  \n",
              "1950  [Spain, Brazil, Spain, Sweden, Sweden, Spain, ...  \n",
              "1954  [Hungary, Uruguay, Uruguay, Austria, Yugoslavi...  \n",
              "1958  [Sweden, West Germany, West Germany, France, N...  \n",
              "1962  [Czechoslovakia, Yugoslavia, Chile, Yugoslavia...  \n",
              "1966  [West Germany, Soviet Union, Portugal, Soviet ...  \n",
              "1970  [Italy, Uruguay, West Germany, Uruguay, Peru, ...  \n",
              "1974  [West Germany, Poland, West Germany, Brazil,  ...  \n",
              "1978  [Netherlands, Italy, Italy, West Germany, Pola...  \n",
              "1982  [West Germany, France, Italy, France, Brazil, ...  \n",
              "1986  [West Germany, Belgium, West Germany, Belgium,...  \n",
              "1990  [Argentina, England, England, Argentina, Czech...  \n",
              "1994  [Italy, Bulgaria, Italy, Brazil, Germany, Swed...  \n",
              "1998  [France, Croatia, Croatia, Netherlands, Argent...  \n",
              "2002  [Brazil, Türkiye, Türkiye, Korea Republic, Kor...  \n",
              "2006  [France, Portugal, France, Italy, Portugal, Fr...  \n",
              "2010  [Spain, Germany, Spain, Netherlands, Germany, ...  \n",
              "2014  [Argentina, Netherlands, Argentina, Germany, B...  \n",
              "2018  [Croatia, England, England, Belgium, England, ...  \n",
              "2022  [France, Morocco, Morocco, Croatia, Portugal, ...  "
            ],
            "text/html": [
              "\n",
              "  <div id=\"df-4eba8220-6acd-44eb-9aab-76d06c4c378d\" class=\"colab-df-container\">\n",
              "    <div>\n",
              "<style scoped>\n",
              "    .dataframe tbody tr th:only-of-type {\n",
              "        vertical-align: middle;\n",
              "    }\n",
              "\n",
              "    .dataframe tbody tr th {\n",
              "        vertical-align: top;\n",
              "    }\n",
              "\n",
              "    .dataframe thead th {\n",
              "        text-align: right;\n",
              "    }\n",
              "</style>\n",
              "<table border=\"1\" class=\"dataframe\">\n",
              "  <thead>\n",
              "    <tr style=\"text-align: right;\">\n",
              "      <th></th>\n",
              "      <th>home</th>\n",
              "      <th>away</th>\n",
              "    </tr>\n",
              "    <tr>\n",
              "      <th>Year</th>\n",
              "      <th></th>\n",
              "      <th></th>\n",
              "    </tr>\n",
              "  </thead>\n",
              "  <tbody>\n",
              "    <tr>\n",
              "      <th>1930</th>\n",
              "      <td>[Uruguay, Uruguay, Argentina, Argentina, Urugu...</td>\n",
              "      <td>[Argentina, Yugoslavia, United States, Chile, ...</td>\n",
              "    </tr>\n",
              "    <tr>\n",
              "      <th>1934</th>\n",
              "      <td>[Italy, Germany, Czechoslovakia, Italy, Italy,...</td>\n",
              "      <td>[Czechoslovakia, Austria, Germany, Austria, Sp...</td>\n",
              "    </tr>\n",
              "    <tr>\n",
              "      <th>1938</th>\n",
              "      <td>[Brazil, Italy, Hungary, Italy, Brazil, Sweden...</td>\n",
              "      <td>[Sweden, Hungary, Sweden, Brazil, Czechoslovak...</td>\n",
              "    </tr>\n",
              "    <tr>\n",
              "      <th>1950</th>\n",
              "      <td>[Sweden, Uruguay, Brazil, Uruguay, Brazil, Uru...</td>\n",
              "      <td>[Spain, Brazil, Spain, Sweden, Sweden, Spain, ...</td>\n",
              "    </tr>\n",
              "    <tr>\n",
              "      <th>1954</th>\n",
              "      <td>[Germany, Austria, Hungary, Germany, Germany, ...</td>\n",
              "      <td>[Hungary, Uruguay, Uruguay, Austria, Yugoslavi...</td>\n",
              "    </tr>\n",
              "    <tr>\n",
              "      <th>1958</th>\n",
              "      <td>[Brazil, France, Sweden, Brazil, France, West ...</td>\n",
              "      <td>[Sweden, West Germany, West Germany, France, N...</td>\n",
              "    </tr>\n",
              "    <tr>\n",
              "      <th>1962</th>\n",
              "      <td>[Brazil, Chile, Brazil, Czechoslovakia, Chile,...</td>\n",
              "      <td>[Czechoslovakia, Yugoslavia, Chile, Yugoslavia...</td>\n",
              "    </tr>\n",
              "    <tr>\n",
              "      <th>1966</th>\n",
              "      <td>[England, Portugal, England, West Germany, Por...</td>\n",
              "      <td>[West Germany, Soviet Union, Portugal, Soviet ...</td>\n",
              "    </tr>\n",
              "    <tr>\n",
              "      <th>1970</th>\n",
              "      <td>[Brazil, West Germany, Italy, Brazil, Brazil, ...</td>\n",
              "      <td>[Italy, Uruguay, West Germany, Uruguay, Peru, ...</td>\n",
              "    </tr>\n",
              "    <tr>\n",
              "      <th>1974</th>\n",
              "      <td>[Netherlands, Brazil, Poland, Netherlands, Arg...</td>\n",
              "      <td>[West Germany, Poland, West Germany, Brazil,  ...</td>\n",
              "    </tr>\n",
              "    <tr>\n",
              "      <th>1978</th>\n",
              "      <td>[Argentina, Brazil, Netherlands, Austria, Braz...</td>\n",
              "      <td>[Netherlands, Italy, Italy, West Germany, Pola...</td>\n",
              "    </tr>\n",
              "    <tr>\n",
              "      <th>1982</th>\n",
              "      <td>[Italy, Poland, Poland, West Germany, Italy, S...</td>\n",
              "      <td>[West Germany, France, Italy, France, Brazil, ...</td>\n",
              "    </tr>\n",
              "    <tr>\n",
              "      <th>1986</th>\n",
              "      <td>[Argentina, France, France, Argentina, Argenti...</td>\n",
              "      <td>[West Germany, Belgium, West Germany, Belgium,...</td>\n",
              "    </tr>\n",
              "    <tr>\n",
              "      <th>1990</th>\n",
              "      <td>[West Germany, Italy, West Germany, Italy, Wes...</td>\n",
              "      <td>[Argentina, England, England, Argentina, Czech...</td>\n",
              "    </tr>\n",
              "    <tr>\n",
              "      <th>1994</th>\n",
              "      <td>[Brazil, Sweden, Bulgaria, Sweden, Bulgaria, R...</td>\n",
              "      <td>[Italy, Bulgaria, Italy, Brazil, Germany, Swed...</td>\n",
              "    </tr>\n",
              "    <tr>\n",
              "      <th>1998</th>\n",
              "      <td>[Brazil, Netherlands, France, Brazil, Netherla...</td>\n",
              "      <td>[France, Croatia, Croatia, Netherlands, Argent...</td>\n",
              "    </tr>\n",
              "    <tr>\n",
              "      <th>2002</th>\n",
              "      <td>[Germany, Korea Republic, Brazil, Germany, Spa...</td>\n",
              "      <td>[Brazil, Türkiye, Türkiye, Korea Republic, Kor...</td>\n",
              "    </tr>\n",
              "    <tr>\n",
              "      <th>2006</th>\n",
              "      <td>[Italy, Germany, Portugal, Germany, England, B...</td>\n",
              "      <td>[France, Portugal, France, Italy, Portugal, Fr...</td>\n",
              "    </tr>\n",
              "    <tr>\n",
              "      <th>2010</th>\n",
              "      <td>[Netherlands, Uruguay, Germany, Uruguay, Argen...</td>\n",
              "      <td>[Spain, Germany, Spain, Netherlands, Germany, ...</td>\n",
              "    </tr>\n",
              "    <tr>\n",
              "      <th>2014</th>\n",
              "      <td>[Germany, Brazil, Netherlands, Brazil, Argenti...</td>\n",
              "      <td>[Argentina, Netherlands, Argentina, Germany, B...</td>\n",
              "    </tr>\n",
              "    <tr>\n",
              "      <th>2018</th>\n",
              "      <td>[France, Belgium, Croatia, France, Sweden, Rus...</td>\n",
              "      <td>[Croatia, England, England, Belgium, England, ...</td>\n",
              "    </tr>\n",
              "    <tr>\n",
              "      <th>2022</th>\n",
              "      <td>[Argentina, Croatia, France, Argentina, Morocc...</td>\n",
              "      <td>[France, Morocco, Morocco, Croatia, Portugal, ...</td>\n",
              "    </tr>\n",
              "  </tbody>\n",
              "</table>\n",
              "</div>\n",
              "    <div class=\"colab-df-buttons\">\n",
              "\n",
              "  <div class=\"colab-df-container\">\n",
              "    <button class=\"colab-df-convert\" onclick=\"convertToInteractive('df-4eba8220-6acd-44eb-9aab-76d06c4c378d')\"\n",
              "            title=\"Convert this dataframe to an interactive table.\"\n",
              "            style=\"display:none;\">\n",
              "\n",
              "  <svg xmlns=\"http://www.w3.org/2000/svg\" height=\"24px\" viewBox=\"0 -960 960 960\">\n",
              "    <path d=\"M120-120v-720h720v720H120Zm60-500h600v-160H180v160Zm220 220h160v-160H400v160Zm0 220h160v-160H400v160ZM180-400h160v-160H180v160Zm440 0h160v-160H620v160ZM180-180h160v-160H180v160Zm440 0h160v-160H620v160Z\"/>\n",
              "  </svg>\n",
              "    </button>\n",
              "\n",
              "  <style>\n",
              "    .colab-df-container {\n",
              "      display:flex;\n",
              "      gap: 12px;\n",
              "    }\n",
              "\n",
              "    .colab-df-convert {\n",
              "      background-color: #E8F0FE;\n",
              "      border: none;\n",
              "      border-radius: 50%;\n",
              "      cursor: pointer;\n",
              "      display: none;\n",
              "      fill: #1967D2;\n",
              "      height: 32px;\n",
              "      padding: 0 0 0 0;\n",
              "      width: 32px;\n",
              "    }\n",
              "\n",
              "    .colab-df-convert:hover {\n",
              "      background-color: #E2EBFA;\n",
              "      box-shadow: 0px 1px 2px rgba(60, 64, 67, 0.3), 0px 1px 3px 1px rgba(60, 64, 67, 0.15);\n",
              "      fill: #174EA6;\n",
              "    }\n",
              "\n",
              "    .colab-df-buttons div {\n",
              "      margin-bottom: 4px;\n",
              "    }\n",
              "\n",
              "    [theme=dark] .colab-df-convert {\n",
              "      background-color: #3B4455;\n",
              "      fill: #D2E3FC;\n",
              "    }\n",
              "\n",
              "    [theme=dark] .colab-df-convert:hover {\n",
              "      background-color: #434B5C;\n",
              "      box-shadow: 0px 1px 3px 1px rgba(0, 0, 0, 0.15);\n",
              "      filter: drop-shadow(0px 1px 2px rgba(0, 0, 0, 0.3));\n",
              "      fill: #FFFFFF;\n",
              "    }\n",
              "  </style>\n",
              "\n",
              "    <script>\n",
              "      const buttonEl =\n",
              "        document.querySelector('#df-4eba8220-6acd-44eb-9aab-76d06c4c378d button.colab-df-convert');\n",
              "      buttonEl.style.display =\n",
              "        google.colab.kernel.accessAllowed ? 'block' : 'none';\n",
              "\n",
              "      async function convertToInteractive(key) {\n",
              "        const element = document.querySelector('#df-4eba8220-6acd-44eb-9aab-76d06c4c378d');\n",
              "        const dataTable =\n",
              "          await google.colab.kernel.invokeFunction('convertToInteractive',\n",
              "                                                    [key], {});\n",
              "        if (!dataTable) return;\n",
              "\n",
              "        const docLinkHtml = 'Like what you see? Visit the ' +\n",
              "          '<a target=\"_blank\" href=https://colab.research.google.com/notebooks/data_table.ipynb>data table notebook</a>'\n",
              "          + ' to learn more about interactive tables.';\n",
              "        element.innerHTML = '';\n",
              "        dataTable['output_type'] = 'display_data';\n",
              "        await google.colab.output.renderOutput(dataTable, element);\n",
              "        const docLink = document.createElement('div');\n",
              "        docLink.innerHTML = docLinkHtml;\n",
              "        element.appendChild(docLink);\n",
              "      }\n",
              "    </script>\n",
              "  </div>\n",
              "\n",
              "\n",
              "<div id=\"df-9b08f890-5958-4763-b120-95eb6a0e6694\">\n",
              "  <button class=\"colab-df-quickchart\" onclick=\"quickchart('df-9b08f890-5958-4763-b120-95eb6a0e6694')\"\n",
              "            title=\"Suggest charts\"\n",
              "            style=\"display:none;\">\n",
              "\n",
              "<svg xmlns=\"http://www.w3.org/2000/svg\" height=\"24px\"viewBox=\"0 0 24 24\"\n",
              "     width=\"24px\">\n",
              "    <g>\n",
              "        <path d=\"M19 3H5c-1.1 0-2 .9-2 2v14c0 1.1.9 2 2 2h14c1.1 0 2-.9 2-2V5c0-1.1-.9-2-2-2zM9 17H7v-7h2v7zm4 0h-2V7h2v10zm4 0h-2v-4h2v4z\"/>\n",
              "    </g>\n",
              "</svg>\n",
              "  </button>\n",
              "\n",
              "<style>\n",
              "  .colab-df-quickchart {\n",
              "      --bg-color: #E8F0FE;\n",
              "      --fill-color: #1967D2;\n",
              "      --hover-bg-color: #E2EBFA;\n",
              "      --hover-fill-color: #174EA6;\n",
              "      --disabled-fill-color: #AAA;\n",
              "      --disabled-bg-color: #DDD;\n",
              "  }\n",
              "\n",
              "  [theme=dark] .colab-df-quickchart {\n",
              "      --bg-color: #3B4455;\n",
              "      --fill-color: #D2E3FC;\n",
              "      --hover-bg-color: #434B5C;\n",
              "      --hover-fill-color: #FFFFFF;\n",
              "      --disabled-bg-color: #3B4455;\n",
              "      --disabled-fill-color: #666;\n",
              "  }\n",
              "\n",
              "  .colab-df-quickchart {\n",
              "    background-color: var(--bg-color);\n",
              "    border: none;\n",
              "    border-radius: 50%;\n",
              "    cursor: pointer;\n",
              "    display: none;\n",
              "    fill: var(--fill-color);\n",
              "    height: 32px;\n",
              "    padding: 0;\n",
              "    width: 32px;\n",
              "  }\n",
              "\n",
              "  .colab-df-quickchart:hover {\n",
              "    background-color: var(--hover-bg-color);\n",
              "    box-shadow: 0 1px 2px rgba(60, 64, 67, 0.3), 0 1px 3px 1px rgba(60, 64, 67, 0.15);\n",
              "    fill: var(--button-hover-fill-color);\n",
              "  }\n",
              "\n",
              "  .colab-df-quickchart-complete:disabled,\n",
              "  .colab-df-quickchart-complete:disabled:hover {\n",
              "    background-color: var(--disabled-bg-color);\n",
              "    fill: var(--disabled-fill-color);\n",
              "    box-shadow: none;\n",
              "  }\n",
              "\n",
              "  .colab-df-spinner {\n",
              "    border: 2px solid var(--fill-color);\n",
              "    border-color: transparent;\n",
              "    border-bottom-color: var(--fill-color);\n",
              "    animation:\n",
              "      spin 1s steps(1) infinite;\n",
              "  }\n",
              "\n",
              "  @keyframes spin {\n",
              "    0% {\n",
              "      border-color: transparent;\n",
              "      border-bottom-color: var(--fill-color);\n",
              "      border-left-color: var(--fill-color);\n",
              "    }\n",
              "    20% {\n",
              "      border-color: transparent;\n",
              "      border-left-color: var(--fill-color);\n",
              "      border-top-color: var(--fill-color);\n",
              "    }\n",
              "    30% {\n",
              "      border-color: transparent;\n",
              "      border-left-color: var(--fill-color);\n",
              "      border-top-color: var(--fill-color);\n",
              "      border-right-color: var(--fill-color);\n",
              "    }\n",
              "    40% {\n",
              "      border-color: transparent;\n",
              "      border-right-color: var(--fill-color);\n",
              "      border-top-color: var(--fill-color);\n",
              "    }\n",
              "    60% {\n",
              "      border-color: transparent;\n",
              "      border-right-color: var(--fill-color);\n",
              "    }\n",
              "    80% {\n",
              "      border-color: transparent;\n",
              "      border-right-color: var(--fill-color);\n",
              "      border-bottom-color: var(--fill-color);\n",
              "    }\n",
              "    90% {\n",
              "      border-color: transparent;\n",
              "      border-bottom-color: var(--fill-color);\n",
              "    }\n",
              "  }\n",
              "</style>\n",
              "\n",
              "  <script>\n",
              "    async function quickchart(key) {\n",
              "      const quickchartButtonEl =\n",
              "        document.querySelector('#' + key + ' button');\n",
              "      quickchartButtonEl.disabled = true;  // To prevent multiple clicks.\n",
              "      quickchartButtonEl.classList.add('colab-df-spinner');\n",
              "      try {\n",
              "        const charts = await google.colab.kernel.invokeFunction(\n",
              "            'suggestCharts', [key], {});\n",
              "      } catch (error) {\n",
              "        console.error('Error during call to suggestCharts:', error);\n",
              "      }\n",
              "      quickchartButtonEl.classList.remove('colab-df-spinner');\n",
              "      quickchartButtonEl.classList.add('colab-df-quickchart-complete');\n",
              "    }\n",
              "    (() => {\n",
              "      let quickchartButtonEl =\n",
              "        document.querySelector('#df-9b08f890-5958-4763-b120-95eb6a0e6694 button');\n",
              "      quickchartButtonEl.style.display =\n",
              "        google.colab.kernel.accessAllowed ? 'block' : 'none';\n",
              "    })();\n",
              "  </script>\n",
              "</div>\n",
              "\n",
              "  <div id=\"id_2db2c659-8795-4c84-ab80-1b2d82056c2e\">\n",
              "    <style>\n",
              "      .colab-df-generate {\n",
              "        background-color: #E8F0FE;\n",
              "        border: none;\n",
              "        border-radius: 50%;\n",
              "        cursor: pointer;\n",
              "        display: none;\n",
              "        fill: #1967D2;\n",
              "        height: 32px;\n",
              "        padding: 0 0 0 0;\n",
              "        width: 32px;\n",
              "      }\n",
              "\n",
              "      .colab-df-generate:hover {\n",
              "        background-color: #E2EBFA;\n",
              "        box-shadow: 0px 1px 2px rgba(60, 64, 67, 0.3), 0px 1px 3px 1px rgba(60, 64, 67, 0.15);\n",
              "        fill: #174EA6;\n",
              "      }\n",
              "\n",
              "      [theme=dark] .colab-df-generate {\n",
              "        background-color: #3B4455;\n",
              "        fill: #D2E3FC;\n",
              "      }\n",
              "\n",
              "      [theme=dark] .colab-df-generate:hover {\n",
              "        background-color: #434B5C;\n",
              "        box-shadow: 0px 1px 3px 1px rgba(0, 0, 0, 0.15);\n",
              "        filter: drop-shadow(0px 1px 2px rgba(0, 0, 0, 0.3));\n",
              "        fill: #FFFFFF;\n",
              "      }\n",
              "    </style>\n",
              "    <button class=\"colab-df-generate\" onclick=\"generateWithVariable('data')\"\n",
              "            title=\"Generate code using this dataframe.\"\n",
              "            style=\"display:none;\">\n",
              "\n",
              "  <svg xmlns=\"http://www.w3.org/2000/svg\" height=\"24px\"viewBox=\"0 0 24 24\"\n",
              "       width=\"24px\">\n",
              "    <path d=\"M7,19H8.4L18.45,9,17,7.55,7,17.6ZM5,21V16.75L18.45,3.32a2,2,0,0,1,2.83,0l1.4,1.43a1.91,1.91,0,0,1,.58,1.4,1.91,1.91,0,0,1-.58,1.4L9.25,21ZM18.45,9,17,7.55Zm-12,3A5.31,5.31,0,0,0,4.9,8.1,5.31,5.31,0,0,0,1,6.5,5.31,5.31,0,0,0,4.9,4.9,5.31,5.31,0,0,0,6.5,1,5.31,5.31,0,0,0,8.1,4.9,5.31,5.31,0,0,0,12,6.5,5.46,5.46,0,0,0,6.5,12Z\"/>\n",
              "  </svg>\n",
              "    </button>\n",
              "    <script>\n",
              "      (() => {\n",
              "      const buttonEl =\n",
              "        document.querySelector('#id_2db2c659-8795-4c84-ab80-1b2d82056c2e button.colab-df-generate');\n",
              "      buttonEl.style.display =\n",
              "        google.colab.kernel.accessAllowed ? 'block' : 'none';\n",
              "\n",
              "      buttonEl.onclick = () => {\n",
              "        google.colab.notebook.generateWithVariable('data');\n",
              "      }\n",
              "      })();\n",
              "    </script>\n",
              "  </div>\n",
              "\n",
              "    </div>\n",
              "  </div>\n"
            ],
            "application/vnd.google.colaboratory.intrinsic+json": {
              "type": "dataframe",
              "variable_name": "data",
              "summary": "{\n  \"name\": \"data\",\n  \"rows\": 22,\n  \"fields\": [\n    {\n      \"column\": \"Year\",\n      \"properties\": {\n        \"dtype\": \"number\",\n        \"std\": 27,\n        \"min\": 1930,\n        \"max\": 2022,\n        \"num_unique_values\": 22,\n        \"samples\": [\n          1930,\n          1990,\n          1970\n        ],\n        \"semantic_type\": \"\",\n        \"description\": \"\"\n      }\n    },\n    {\n      \"column\": \"home\",\n      \"properties\": {\n        \"dtype\": \"object\",\n        \"semantic_type\": \"\",\n        \"description\": \"\"\n      }\n    },\n    {\n      \"column\": \"away\",\n      \"properties\": {\n        \"dtype\": \"object\",\n        \"semantic_type\": \"\",\n        \"description\": \"\"\n      }\n    }\n  ]\n}"
            }
          },
          "metadata": {},
          "execution_count": 53
        }
      ]
    },
    {
      "cell_type": "code",
      "source": [
        "data['teams']= data.apply(lambda x: list(set(x['home']+x['away'])), axis=1)\n",
        "\n",
        "#1- concatinate\n",
        "#2 - set ( duplicate X)\n",
        "#3 - List\n"
      ],
      "metadata": {
        "id": "Y_GK4wF9SGd7"
      },
      "execution_count": 55,
      "outputs": []
    },
    {
      "cell_type": "code",
      "source": [
        "data['#']= data['teams'].apply(len)"
      ],
      "metadata": {
        "id": "u46l1rH9SLYb"
      },
      "execution_count": null,
      "outputs": []
    },
    {
      "cell_type": "code",
      "source": [
        "data_pivot = data['teams'].explode().reset_index().pivot(index='Year', columns='teams', values='Year').T"
      ],
      "metadata": {
        "id": "kKdYgq6ySOI5"
      },
      "execution_count": 56,
      "outputs": []
    },
    {
      "cell_type": "code",
      "source": [
        "data_pivot.fillna(0 , inplace=True)"
      ],
      "metadata": {
        "id": "wBmRQekSTHAz"
      },
      "execution_count": 58,
      "outputs": []
    },
    {
      "cell_type": "code",
      "source": [
        "data_pivot= data_pivot.applymap(lambda x: 1 if x>0 else 0)"
      ],
      "metadata": {
        "colab": {
          "base_uri": "https://localhost:8080/"
        },
        "id": "8v5Tx4XUTJh3",
        "outputId": "06a180ce-2125-42f8-b433-6fdd080d0062"
      },
      "execution_count": 59,
      "outputs": [
        {
          "output_type": "stream",
          "name": "stderr",
          "text": [
            "<ipython-input-59-8f0785c81353>:1: FutureWarning:\n",
            "\n",
            "DataFrame.applymap has been deprecated. Use DataFrame.map instead.\n",
            "\n"
          ]
        }
      ]
    },
    {
      "cell_type": "code",
      "source": [
        "plt.figure(figsize=(12,20))\n",
        "sns.heatmap(data_pivot,linewidths= 0.5, linecolor='white')\n",
        "plt.title(\"Team Participation Over Years\")\n",
        "plt.xlabel(\"Years\")\n",
        "plt.ylabel(\"Teams\")\n",
        "plt.show()\n"
      ],
      "metadata": {
        "colab": {
          "base_uri": "https://localhost:8080/",
          "height": 1000
        },
        "id": "9qiD5_3QTL4g",
        "outputId": "2d1ad1ba-c96e-48f3-aebc-f84ae33ad98e"
      },
      "execution_count": 60,
      "outputs": [
        {
          "output_type": "display_data",
          "data": {
            "text/plain": [
              "<Figure size 1200x2000 with 2 Axes>"
            ],
            "image/png": "[encoded data removed]"
          },
          "metadata": {}
        }
      ]
    },
    {
      "cell_type": "markdown",
      "source": [
        "OBSERVATIONS\n",
        "Brazil is the only country to play all editions of the FIFA cup.\n",
        "\n",
        "Countries are Qatar , Canada , Wales are new to the tournament.\n",
        "\n",
        "Countires like Cuba, Israel , Kuwait , jamaica, Ukrain , Tongo etc. participated in only 1 edition of FIFA."
      ],
      "metadata": {
        "id": "6XMfeG_UUCQ2"
      }
    },
    {
      "cell_type": "markdown",
      "source": [
        "#CHECKING FOR WHICH TEAM RANK INCREASED , DECREASED OR REMAIN SAME."
      ],
      "metadata": {
        "id": "6n2zjNMlUlQv"
      }
    },
    {
      "cell_type": "code",
      "source": [
        "Same_rank= world_ranking[world_ranking['rank']==world_ranking['previous_rank']]['team'].tolist()\n",
        "Rank_decreased = world_ranking[world_ranking['rank']>world_ranking['previous_rank']]['team'].tolist()\n",
        "Rank_increased = world_ranking[world_ranking['rank']<world_ranking['previous_rank']]['team'].tolist()"
      ],
      "metadata": {
        "id": "CNUKTBOGUD7c"
      },
      "execution_count": 63,
      "outputs": []
    },
    {
      "cell_type": "code",
      "source": [
        "print(f\"Same Rank : {len(Same_rank)}\")\n",
        "print(f\"Rank Increased : {len(Rank_increased)}\")\n",
        "print(f\"Rank Decreased : {len(Rank_decreased)}\")"
      ],
      "metadata": {
        "colab": {
          "base_uri": "https://localhost:8080/"
        },
        "id": "UUh04CZrUrG_",
        "outputId": "921285c5-fec7-4101-fcc2-f47ca1939289"
      },
      "execution_count": 64,
      "outputs": [
        {
          "output_type": "stream",
          "name": "stdout",
          "text": [
            "Same Rank : 66\n",
            "Rank Increased : 77\n",
            "Rank Decreased : 68\n"
          ]
        }
      ]
    },
    {
      "cell_type": "code",
      "source": [
        "max_length= max(len(Same_rank), len(Rank_increased), len(Rank_decreased))"
      ],
      "metadata": {
        "id": "Ev2UYP8AUuqf"
      },
      "execution_count": 65,
      "outputs": []
    },
    {
      "cell_type": "code",
      "source": [
        "Same_rank += [None]*(max_length-len(Same_rank))\n",
        "Rank_increased += [None]*(max_length-len(Rank_increased))\n",
        "Rank_decreased += [None]*(max_length-len(Rank_decreased))"
      ],
      "metadata": {
        "id": "T5BcNN6GUxYR"
      },
      "execution_count": 66,
      "outputs": []
    },
    {
      "cell_type": "code",
      "source": [
        "df= pd.DataFrame({\n",
        "    \"Same Rank\": Same_rank,\n",
        "    \"Rank Increased\": Rank_increased,\n",
        "    \"Rank Decreased\": Rank_decreased\n",
        "})\n"
      ],
      "metadata": {
        "id": "t_ufgZNgU0Qz"
      },
      "execution_count": 67,
      "outputs": []
    },
    {
      "cell_type": "code",
      "source": [
        "df.fillna('', inplace=True)"
      ],
      "metadata": {
        "id": "dsSpOtmZU8em"
      },
      "execution_count": 68,
      "outputs": []
    },
    {
      "cell_type": "code",
      "source": [
        "#Function to check rank increase or decrease.\n",
        "def find_Rank(Country):\n",
        "    result = []\n",
        "    for column in df.columns:\n",
        "        matches = df[column] == Country\n",
        "        if matches.any():\n",
        "            result.append(column)\n",
        "    return result\n",
        "\n"
      ],
      "metadata": {
        "id": "WRgV9bzgU-oo"
      },
      "execution_count": 69,
      "outputs": []
    }
  ]
}